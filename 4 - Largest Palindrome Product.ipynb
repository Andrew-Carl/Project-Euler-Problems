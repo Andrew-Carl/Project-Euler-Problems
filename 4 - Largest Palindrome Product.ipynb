{
 "cells": [
  {
   "cell_type": "markdown",
   "metadata": {},
   "source": [
    "### Problem 4:\n",
    "\n",
    "A palindromic number reads the same both ways. The largest palindrome made from the product of two 2-digit numbers is 9009 = 91 × 99.\n",
    "\n",
    "Find the largest palindrome made from the product of two 3-digit numbers."
   ]
  },
  {
   "cell_type": "code",
   "execution_count": 3,
   "metadata": {},
   "outputs": [
    {
     "name": "stdout",
     "output_type": "stream",
     "text": [
      "Largest palindrome made from the product of two 3-digit numbers :  906609\n"
     ]
    }
   ],
   "source": [
    "palindromes = []\n",
    "\n",
    "for x in range(100, 999):\n",
    "    for i in range(100, 999):\n",
    "        num = str(i * x).split()[0]\n",
    "        if len(num) == 6:\n",
    "            if num[0] == num[-1] and num[1] == num[-2] and num[2] == num[-3]:\n",
    "                palindromes.append(i * x)\n",
    "                \n",
    "print('Largest palindrome made from the product of two 3-digit numbers : ', max(palindromes))"
   ]
  },
  {
   "cell_type": "code",
   "execution_count": null,
   "metadata": {},
   "outputs": [],
   "source": []
  }
 ],
 "metadata": {
  "kernelspec": {
   "display_name": "Python 3",
   "language": "python",
   "name": "python3"
  },
  "language_info": {
   "codemirror_mode": {
    "name": "ipython",
    "version": 3
   },
   "file_extension": ".py",
   "mimetype": "text/x-python",
   "name": "python",
   "nbconvert_exporter": "python",
   "pygments_lexer": "ipython3",
   "version": "3.6.5"
  }
 },
 "nbformat": 4,
 "nbformat_minor": 2
}
